{
 "cells": [
  {
   "cell_type": "markdown",
   "id": "german-puzzle",
   "metadata": {},
   "source": [
    "To begin, we need to transfer the device from CPU memory to the GPU."
   ]
  },
  {
   "cell_type": "code",
   "execution_count": 1,
   "id": "opening-desert",
   "metadata": {},
   "outputs": [],
   "source": [
    "import torch\n",
    "device = torch.device('cuda')"
   ]
  },
  {
   "cell_type": "markdown",
   "id": "functional-member",
   "metadata": {},
   "source": [
    "Load the TRT optimized models."
   ]
  },
  {
   "cell_type": "code",
   "execution_count": 2,
   "id": "descending-murder",
   "metadata": {},
   "outputs": [
    {
     "data": {
      "text/plain": [
       "<All keys matched successfully>"
      ]
     },
     "execution_count": 2,
     "metadata": {},
     "output_type": "execute_result"
    }
   ],
   "source": [
    "from torch2trt import TRTModule\n",
    "\n",
    "model_trt = TRTModule()\n",
    "model_trt.load_state_dict(torch.load('best_steering_model_xy_trt.pth'))\n",
    "\n",
    "model_trt_collision = TRTModule()\n",
    "model_trt_collision.load_state_dict(torch.load('best_model_trt.pth'))"
   ]
  },
  {
   "cell_type": "markdown",
   "id": "completed-fairy",
   "metadata": {},
   "source": [
    "# Create Preprocessing Function\n",
    "It's the same for both models."
   ]
  },
  {
   "cell_type": "code",
   "execution_count": 3,
   "id": "designing-independence",
   "metadata": {},
   "outputs": [],
   "source": [
    "import torchvision.transforms as transforms\n",
    "import torch.nn.functional as F\n",
    "import cv2\n",
    "import PIL.Image\n",
    "import numpy as np\n",
    "\n",
    "#normalize = torchvision.transforms.Normalize(mean, std)\n",
    "mean = torch.Tensor([0.485, 0.456, 0.406]).cuda().half()\n",
    "std = torch.Tensor([0.229, 0.224, 0.225]).cuda().half()\n",
    "\n",
    "def preprocess(image):\n",
    "    image = PIL.Image.fromarray(image)\n",
    "    image = transforms.functional.to_tensor(image).to(device).half()\n",
    "    image.sub_(mean[:, None, None]).div_(std[:, None, None])\n",
    "    return image[None, ...]"
   ]
  },
  {
   "cell_type": "markdown",
   "id": "careful-module",
   "metadata": {},
   "source": [
    "# Start & Display the Camera"
   ]
  },
  {
   "cell_type": "code",
   "execution_count": 4,
   "id": "three-halloween",
   "metadata": {},
   "outputs": [
    {
     "data": {
      "text/plain": [
       "<traitlets.traitlets.directional_link at 0x7eeffd28d0>"
      ]
     },
     "execution_count": 4,
     "metadata": {},
     "output_type": "execute_result"
    }
   ],
   "source": [
    "from IPython.display import display\n",
    "import ipywidgets\n",
    "import traitlets\n",
    "from jetbot import bgr8_to_jpeg\n",
    "from jetbot.camera.zmq_camera import ZmqCamera as Camera\n",
    "\n",
    "camera = Camera()\n",
    "image_widget = ipywidgets.Image()\n",
    "traitlets.dlink((camera, 'value'), (image_widget, 'value'), transform=bgr8_to_jpeg)"
   ]
  },
  {
   "cell_type": "markdown",
   "id": "suspected-shooting",
   "metadata": {},
   "source": [
    "# Create Robot Instance\n",
    "This is used to drive the motors."
   ]
  },
  {
   "cell_type": "code",
   "execution_count": 5,
   "id": "talented-producer",
   "metadata": {},
   "outputs": [],
   "source": [
    "from jetbot import Robot\n",
    "\n",
    "robot = Robot()"
   ]
  },
  {
   "cell_type": "markdown",
   "id": "lucky-illustration",
   "metadata": {},
   "source": [
    "# Define Sliders to Control JetBot"
   ]
  },
  {
   "cell_type": "markdown",
   "id": "whole-transformation",
   "metadata": {},
   "source": [
    "Now, we will define sliders to control JetBot\n",
    "> Note: We have initialize the slider values for best known configurations, however these might not work for your dataset, therefore please increase or decrease the sliders according to your setup and environment\n",
    "\n",
    "1. Speed Control (speed_gain_slider): To start your JetBot increase ``speed_gain_slider`` \n",
    "2. Steering Gain Control (steering_gain_slider): If you see JetBot is wobbling, you need to reduce ``steering_gain_slider`` till it is smooth\n",
    "3. Steering Bias control (steering_bias_slider): If you see JetBot is biased towards extreme right or extreme left side of the track, you should control this slider till JetBot start following line or track in the center.  This accounts for motor biases as well as camera offsets\n",
    "\n",
    "> Note: You should play around above mentioned sliders with lower speed to get smooth JetBot road following behavior."
   ]
  },
  {
   "cell_type": "markdown",
   "id": "powered-tracy",
   "metadata": {},
   "source": [
    "## Road Following Sliders"
   ]
  },
  {
   "cell_type": "code",
   "execution_count": 7,
   "id": "equal-domain",
   "metadata": {},
   "outputs": [
    {
     "data": {
      "application/vnd.jupyter.widget-view+json": {
       "model_id": "f9eebec50aa2463bb093d06da0cdf716",
       "version_major": 2,
       "version_minor": 0
      },
      "text/plain": [
       "FloatSlider(value=0.2, description='speed gain', max=1.0, step=0.01)"
      ]
     },
     "metadata": {},
     "output_type": "display_data"
    },
    {
     "data": {
      "application/vnd.jupyter.widget-view+json": {
       "model_id": "9d8bd58899f24e879e91fb699a7dbd9f",
       "version_major": 2,
       "version_minor": 0
      },
      "text/plain": [
       "FloatSlider(value=0.1, description='steering gain', max=1.0, step=0.01)"
      ]
     },
     "metadata": {},
     "output_type": "display_data"
    },
    {
     "data": {
      "application/vnd.jupyter.widget-view+json": {
       "model_id": "ea18012e4bb14e228ba8f805a0084d67",
       "version_major": 2,
       "version_minor": 0
      },
      "text/plain": [
       "FloatSlider(value=0.0, description='steering kd', max=0.5, step=0.001)"
      ]
     },
     "metadata": {},
     "output_type": "display_data"
    },
    {
     "data": {
      "application/vnd.jupyter.widget-view+json": {
       "model_id": "2d61c2504abe4eafafa04622eba45ad3",
       "version_major": 2,
       "version_minor": 0
      },
      "text/plain": [
       "FloatSlider(value=0.0, description='steering bias', max=0.3, min=-0.3, step=0.01)"
      ]
     },
     "metadata": {},
     "output_type": "display_data"
    }
   ],
   "source": [
    "speed_gain_slider = ipywidgets.FloatSlider(min=0.0, max=1.0, step=0.01, value=0.2, description='speed gain')\n",
    "steering_gain_slider = ipywidgets.FloatSlider(min=0.0, max=1.0, step=0.01, value=0.05, description='steering gain')\n",
    "steering_dgain_slider = ipywidgets.FloatSlider(min=0.0, max=0.5, step=0.001, value=0.0, description='steering kd')\n",
    "steering_bias_slider = ipywidgets.FloatSlider(min=-0.3, max=0.3, step=0.01, value=-0.02, description='steering bias')\n",
    "\n",
    "display(speed_gain_slider, steering_gain_slider, steering_dgain_slider, steering_bias_slider)"
   ]
  },
  {
   "cell_type": "markdown",
   "id": "southeast-second",
   "metadata": {},
   "source": [
    "## Collision Avoidance Sliders"
   ]
  },
  {
   "cell_type": "code",
   "execution_count": 8,
   "id": "proved-catalog",
   "metadata": {},
   "outputs": [
    {
     "data": {
      "application/vnd.jupyter.widget-view+json": {
       "model_id": "9264a1ac22a54bdebd5f7895436efd0b",
       "version_major": 2,
       "version_minor": 0
      },
      "text/plain": [
       "Image(value=b'\\xff\\xd8\\xff\\xe0\\x00\\x10JFIF\\x00\\x01\\x01\\x00\\x00\\x01\\x00\\x01\\x00\\x00\\xff\\xdb\\x00C\\x00\\x02\\x01\\x0…"
      ]
     },
     "metadata": {},
     "output_type": "display_data"
    },
    {
     "data": {
      "application/vnd.jupyter.widget-view+json": {
       "model_id": "a60456476b2b46a39c3189a48f03420e",
       "version_major": 2,
       "version_minor": 0
      },
      "text/plain": [
       "HBox(children=(FloatSlider(value=0.0, description='blocked', max=1.0, orientation='vertical'), FloatSlider(val…"
      ]
     },
     "metadata": {},
     "output_type": "display_data"
    }
   ],
   "source": [
    "blocked_slider = ipywidgets.widgets.FloatSlider(description='blocked', min=0.0, max=1.0, orientation='vertical')\n",
    "stopduration_slider= ipywidgets.IntSlider(min=1, max=1000, step=1, value=10, description='time for stop') \n",
    "blocked_threshold= ipywidgets.FloatSlider(min=0, max=1.0, step=0.01, value=0.8, description='blocked threshold')\n",
    "\n",
    "display(image_widget)\n",
    "display(ipywidgets.HBox([blocked_slider, blocked_threshold, stopduration_slider]))"
   ]
  },
  {
   "cell_type": "markdown",
   "id": "vanilla-failing",
   "metadata": {},
   "source": [
    "# Function to Run When Camera's Value Changes"
   ]
  },
  {
   "cell_type": "code",
   "execution_count": 9,
   "id": "neural-wellington",
   "metadata": {},
   "outputs": [
    {
     "name": "stdout",
     "output_type": "stream",
     "text": [
      "Probability Blocked: 0.0\n"
     ]
    }
   ],
   "source": [
    "import math\n",
    "\n",
    "angle = 0.0\n",
    "angle_last = 0.0\n",
    "count_stops = 0.0\n",
    "go_on = 0.0\n",
    "\n",
    "# The number of frames to remain stopped\n",
    "stop_time = 10\n",
    "x = 0.0\n",
    "y = 0.0\n",
    "speed_value = speed_gain_slider.value\n",
    "\n",
    "def execute(change):\n",
    "    global angle, angle_last, blocked_slider, robot, count_stops, stop_time, go_on, x, y, blocked_threshold\n",
    "    global speed_value, steer_gain, steer_dgain, steer_bias\n",
    "    \n",
    "    steer_gain = steering_gain_slider.value\n",
    "    steer_dgain = steering_dgain_slider.value\n",
    "    steer_bias = steering_bias_slider.value\n",
    "    go_on = 1\n",
    "    \n",
    "    # Preprocess the image\n",
    "    image_preproc = preprocess(change['new']).to(device)\n",
    "    \n",
    "    # Collision Avoidance Model\n",
    "    prob_blocked = float(F.softmax(model_trt_collision(image_preproc), dim=1).flatten()[0])\n",
    "    blocked_slider.value = prob_blocked\n",
    "    stop_time = stopduration_slider.value\n",
    "    if go_on == 1:\n",
    "        \n",
    "        # Probability threshold should be above 0.5\n",
    "        print(f'Probability Blocked: {prob_blocked}')\n",
    "        if prob_blocked > blocked_threshold.value:\n",
    "            print(\"Stopped\")\n",
    "            count_stops += 1\n",
    "            go_on = 2\n",
    "            speed_gain_slider.value = 0.0\n",
    "            speed_value = speed_gain_slider.value\n",
    "        else:\n",
    "            # Start of Road Following Model\n",
    "            go_on = 1\n",
    "            count_stops = 0\n",
    "            xy = model_trt(image_preproc).detach().float().cpu().numpy().flatten()\n",
    "            x = xy[0]\n",
    "            y = (0.5 - xy[1]) / 2.0\n",
    "            speed_gain_slider.value = 0.2\n",
    "            speed_value = speed_gain_slider.value\n",
    "    else:\n",
    "        count_stops += 1\n",
    "        if count_stops < stop_time:\n",
    "            # Set x, y steering and speed to 0.0\n",
    "            x = 0.0\n",
    "            y = 0.0\n",
    "            speed_value = 0\n",
    "        else:\n",
    "            go_on = 1\n",
    "            count_stops = 0\n",
    "            \n",
    "    angle = math.atan2(x, y)\n",
    "    pid = angle * steer_gain + (angle - angle_last) * steer_dgain\n",
    "    steer_val = pid + steer_bias\n",
    "    angle_last = angle\n",
    "    robot.left_motor.value = max(min(speed_value + steer_val, 1.0), 0.0)\n",
    "    robot.right_motor.value = max(min(speed_value - steer_val, 1.0), 0.0)\n",
    "    \n",
    "execute({'new': camera.value})   \n",
    "    "
   ]
  },
  {
   "cell_type": "markdown",
   "id": "voluntary-signal",
   "metadata": {},
   "source": [
    "# Attach the Function to Camera for Processing"
   ]
  },
  {
   "cell_type": "code",
   "execution_count": 10,
   "id": "ahead-heavy",
   "metadata": {},
   "outputs": [
    {
     "name": "stdout",
     "output_type": "stream",
     "text": [
      "Probability Blocked: 0.0007867813110351562\n",
      "Probability Blocked: 0.00434112548828125\n",
      "Probability Blocked: 0.007488250732421875\n",
      "Probability Blocked: 0.004619598388671875\n",
      "Probability Blocked: 0.00426483154296875\n",
      "Probability Blocked: 0.0018825531005859375\n",
      "Probability Blocked: 0.0007991790771484375\n",
      "Probability Blocked: 0.0017175674438476562\n",
      "Probability Blocked: 0.0005908012390136719\n",
      "Probability Blocked: 0.0140380859375\n",
      "Probability Blocked: 0.006969451904296875\n",
      "Probability Blocked: 0.00501251220703125\n",
      "Probability Blocked: 0.005062103271484375\n",
      "Probability Blocked: 0.007518768310546875\n",
      "Probability Blocked: 0.00814056396484375\n",
      "Probability Blocked: 0.003482818603515625\n",
      "Probability Blocked: 0.0009756088256835938\n",
      "Probability Blocked: 0.048187255859375\n",
      "Probability Blocked: 0.0036220550537109375\n",
      "Probability Blocked: 0.0013151168823242188\n",
      "Probability Blocked: 0.0010690689086914062\n",
      "Probability Blocked: 0.0005388259887695312\n",
      "Probability Blocked: 6.157159805297852e-05\n",
      "Probability Blocked: 2.586841583251953e-05\n",
      "Probability Blocked: 6.03795051574707e-05\n",
      "Probability Blocked: 1.233816146850586e-05\n",
      "Probability Blocked: 6.4373016357421875e-06\n",
      "Probability Blocked: 1.2993812561035156e-05\n",
      "Probability Blocked: 3.993511199951172e-06\n",
      "Probability Blocked: 4.708766937255859e-06\n",
      "Probability Blocked: 6.496906280517578e-06\n",
      "Probability Blocked: 1.329183578491211e-05\n",
      "Probability Blocked: 2.9325485229492188e-05\n",
      "Probability Blocked: 1.627206802368164e-05\n",
      "Probability Blocked: 2.5033950805664062e-06\n",
      "Probability Blocked: 3.3974647521972656e-06\n",
      "Probability Blocked: 7.092952728271484e-06\n",
      "Probability Blocked: 1.0967254638671875e-05\n",
      "Probability Blocked: 1.1682510375976562e-05\n",
      "Probability Blocked: 1.2576580047607422e-05\n",
      "Probability Blocked: 1.0371208190917969e-05\n",
      "Probability Blocked: 1.6570091247558594e-05\n",
      "Probability Blocked: 2.288818359375e-05\n",
      "Probability Blocked: 3.272294998168945e-05\n",
      "Probability Blocked: 1.633167266845703e-05\n",
      "Probability Blocked: 1.5676021575927734e-05\n",
      "Probability Blocked: 7.152557373046875e-06\n",
      "Probability Blocked: 1.7940998077392578e-05\n",
      "Probability Blocked: 4.470348358154297e-06\n",
      "Probability Blocked: 1.6808509826660156e-05\n",
      "Probability Blocked: 3.24249267578125e-05\n",
      "Probability Blocked: 1.8298625946044922e-05\n",
      "Probability Blocked: 1.8537044525146484e-05\n",
      "Probability Blocked: 1.2576580047607422e-05\n",
      "Probability Blocked: 1.0728836059570312e-05\n",
      "Probability Blocked: 4.887580871582031e-06\n",
      "Probability Blocked: 1.1146068572998047e-05\n",
      "Probability Blocked: 2.9206275939941406e-06\n",
      "Probability Blocked: 3.933906555175781e-06\n",
      "Probability Blocked: 1.6689300537109375e-06\n",
      "Probability Blocked: 2.1457672119140625e-06\n",
      "Probability Blocked: 1.9073486328125e-06\n",
      "Probability Blocked: 3.6954879760742188e-06\n",
      "Probability Blocked: 2.682209014892578e-06\n",
      "Probability Blocked: 2.9206275939941406e-06\n",
      "Probability Blocked: 6.4373016357421875e-06\n",
      "Probability Blocked: 4.589557647705078e-06\n",
      "Probability Blocked: 3.159046173095703e-06\n",
      "Probability Blocked: 1.4781951904296875e-05\n",
      "Probability Blocked: 1.0788440704345703e-05\n",
      "Probability Blocked: 7.62939453125e-06\n",
      "Probability Blocked: 5.0067901611328125e-06\n",
      "Probability Blocked: 3.039836883544922e-06\n",
      "Probability Blocked: 4.851818084716797e-05\n",
      "Probability Blocked: 5.543231964111328e-06\n",
      "Probability Blocked: 2.944469451904297e-05\n",
      "Probability Blocked: 1.0728836059570312e-05\n",
      "Probability Blocked: 1.1682510375976562e-05\n",
      "Probability Blocked: 2.205371856689453e-05\n",
      "Probability Blocked: 1.3828277587890625e-05\n",
      "Probability Blocked: 1.633167266845703e-05\n",
      "Probability Blocked: 1.6391277313232422e-05\n",
      "Probability Blocked: 2.568960189819336e-05\n",
      "Probability Blocked: 2.0444393157958984e-05\n",
      "Probability Blocked: 6.377696990966797e-06\n",
      "Probability Blocked: 2.1457672119140625e-06\n",
      "Probability Blocked: 6.973743438720703e-06\n",
      "Probability Blocked: 7.152557373046875e-07\n",
      "Probability Blocked: 6.020069122314453e-06\n",
      "Probability Blocked: 2.205371856689453e-06\n",
      "Probability Blocked: 1.3470649719238281e-05\n",
      "Probability Blocked: 3.415346145629883e-05\n",
      "Probability Blocked: 1.7702579498291016e-05\n",
      "Probability Blocked: 1.1146068572998047e-05\n",
      "Probability Blocked: 0.0001119375228881836\n",
      "Probability Blocked: 9.244680404663086e-05\n",
      "Probability Blocked: 7.224082946777344e-05\n",
      "Probability Blocked: 0.00011366605758666992\n",
      "Probability Blocked: 3.2067298889160156e-05\n",
      "Probability Blocked: 6.949901580810547e-05\n",
      "Probability Blocked: 3.927946090698242e-05\n",
      "Probability Blocked: 7.748603820800781e-06\n",
      "Probability Blocked: 1.233816146850586e-05\n",
      "Probability Blocked: 3.993511199951172e-05\n",
      "Probability Blocked: 6.604194641113281e-05\n",
      "Probability Blocked: 2.3484230041503906e-05\n",
      "Probability Blocked: 4.5239925384521484e-05\n",
      "Probability Blocked: 3.3855438232421875e-05\n",
      "Probability Blocked: 0.00016736984252929688\n",
      "Probability Blocked: 8.153915405273438e-05\n",
      "Probability Blocked: 0.00026416778564453125\n",
      "Probability Blocked: 0.00025177001953125\n",
      "Probability Blocked: 0.000598907470703125\n",
      "Probability Blocked: 0.0035114288330078125\n",
      "Probability Blocked: 0.03082275390625\n",
      "Probability Blocked: 0.03411865234375\n",
      "Probability Blocked: 0.044189453125\n",
      "Probability Blocked: 0.10113525390625\n",
      "Probability Blocked: 0.03424072265625\n",
      "Probability Blocked: 0.259521484375\n",
      "Probability Blocked: 0.1683349609375\n",
      "Probability Blocked: 0.2193603515625\n",
      "Probability Blocked: 0.2177734375\n",
      "Probability Blocked: 0.10693359375\n",
      "Probability Blocked: 0.1279296875\n",
      "Probability Blocked: 0.2763671875\n",
      "Probability Blocked: 0.415283203125\n",
      "Probability Blocked: 0.244140625\n",
      "Probability Blocked: 0.2919921875\n",
      "Probability Blocked: 0.1202392578125\n",
      "Probability Blocked: 0.1549072265625\n",
      "Probability Blocked: 0.08892822265625\n",
      "Probability Blocked: 0.3759765625\n",
      "Probability Blocked: 0.05426025390625\n",
      "Probability Blocked: 0.0802001953125\n",
      "Probability Blocked: 0.01003265380859375\n",
      "Probability Blocked: 0.046112060546875\n",
      "Probability Blocked: 0.0560302734375\n",
      "Probability Blocked: 0.181396484375\n",
      "Probability Blocked: 0.0228271484375\n",
      "Probability Blocked: 0.0202484130859375\n",
      "Probability Blocked: 0.005405426025390625\n",
      "Probability Blocked: 0.004100799560546875\n",
      "Probability Blocked: 0.036956787109375\n",
      "Probability Blocked: 0.03076171875\n",
      "Probability Blocked: 0.0699462890625\n",
      "Probability Blocked: 0.0283050537109375\n",
      "Probability Blocked: 0.005001068115234375\n",
      "Probability Blocked: 0.01348114013671875\n",
      "Probability Blocked: 0.034027099609375\n",
      "Probability Blocked: 0.0038394927978515625\n",
      "Probability Blocked: 0.0022258758544921875\n",
      "Probability Blocked: 0.005706787109375\n",
      "Probability Blocked: 0.0017957687377929688\n",
      "Probability Blocked: 0.00396728515625\n",
      "Probability Blocked: 0.0894775390625\n",
      "Probability Blocked: 0.02294921875\n",
      "Probability Blocked: 0.0098876953125\n",
      "Probability Blocked: 0.05926513671875\n",
      "Probability Blocked: 0.0361328125\n",
      "Probability Blocked: 0.050445556640625\n",
      "Probability Blocked: 0.022674560546875\n",
      "Probability Blocked: 0.00885009765625\n",
      "Probability Blocked: 0.0163116455078125\n",
      "Probability Blocked: 0.006938934326171875\n",
      "Probability Blocked: 0.0223236083984375\n",
      "Probability Blocked: 0.005458831787109375\n",
      "Probability Blocked: 0.007801055908203125\n",
      "Probability Blocked: 0.00027060508728027344\n",
      "Probability Blocked: 0.00014483928680419922\n",
      "Probability Blocked: 7.575750350952148e-05\n",
      "Probability Blocked: 4.965066909790039e-05\n",
      "Probability Blocked: 9.763240814208984e-05\n",
      "Probability Blocked: 9.5367431640625e-05\n",
      "Probability Blocked: 8.702278137207031e-06\n",
      "Probability Blocked: 9.834766387939453e-06\n",
      "Probability Blocked: 1.0967254638671875e-05\n",
      "Probability Blocked: 7.092952728271484e-06\n",
      "Probability Blocked: 4.667043685913086e-05\n",
      "Probability Blocked: 5.626678466796875e-05\n",
      "Probability Blocked: 3.2961368560791016e-05\n",
      "Probability Blocked: 3.933906555175781e-06\n",
      "Probability Blocked: 1.3768672943115234e-05\n",
      "Probability Blocked: 1.1801719665527344e-05\n",
      "Probability Blocked: 2.8192996978759766e-05\n",
      "Probability Blocked: 4.774332046508789e-05\n",
      "Probability Blocked: 5.739927291870117e-05\n",
      "Probability Blocked: 0.0001615285873413086\n",
      "Probability Blocked: 5.5849552154541016e-05\n",
      "Probability Blocked: 6.03795051574707e-05\n",
      "Probability Blocked: 1.627206802368164e-05\n",
      "Probability Blocked: 2.5093555450439453e-05\n",
      "Probability Blocked: 6.204843521118164e-05\n",
      "Probability Blocked: 7.575750350952148e-05\n",
      "Probability Blocked: 1.1563301086425781e-05\n",
      "Probability Blocked: 2.568960189819336e-05\n",
      "Probability Blocked: 3.993511199951172e-06\n",
      "Probability Blocked: 3.135204315185547e-05\n",
      "Probability Blocked: 1.424551010131836e-05\n",
      "Probability Blocked: 2.014636993408203e-05\n",
      "Probability Blocked: 1.811981201171875e-05\n",
      "Probability Blocked: 1.1324882507324219e-05\n",
      "Probability Blocked: 1.9311904907226562e-05\n",
      "Probability Blocked: 8.761882781982422e-06\n",
      "Probability Blocked: 1.233816146850586e-05\n",
      "Probability Blocked: 1.6450881958007812e-05\n",
      "Probability Blocked: 7.450580596923828e-06\n",
      "Probability Blocked: 1.901388168334961e-05\n",
      "Probability Blocked: 1.4185905456542969e-05\n",
      "Probability Blocked: 4.470348358154297e-06\n",
      "Probability Blocked: 3.993511199951172e-06\n",
      "Probability Blocked: 7.569789886474609e-06\n",
      "Probability Blocked: 8.225440979003906e-06\n",
      "Probability Blocked: 9.298324584960938e-06\n",
      "Probability Blocked: 1.0848045349121094e-05\n",
      "Probability Blocked: 1.233816146850586e-05\n",
      "Probability Blocked: 3.874301910400391e-06\n",
      "Probability Blocked: 6.377696990966797e-06\n",
      "Probability Blocked: 2.9802322387695312e-06\n",
      "Probability Blocked: 1.6689300537109375e-05\n",
      "Probability Blocked: 2.1636486053466797e-05\n",
      "Probability Blocked: 6.854534149169922e-06\n",
      "Probability Blocked: 8.64267349243164e-06\n",
      "Probability Blocked: 1.913309097290039e-05\n",
      "Probability Blocked: 6.377696990966797e-06\n",
      "Probability Blocked: 3.4570693969726562e-06\n",
      "Probability Blocked: 6.4373016357421875e-06\n",
      "Probability Blocked: 8.52346420288086e-06\n",
      "Probability Blocked: 1.2099742889404297e-05\n",
      "Probability Blocked: 5.7220458984375e-06\n",
      "Probability Blocked: 1.424551010131836e-05\n",
      "Probability Blocked: 1.913309097290039e-05\n",
      "Probability Blocked: 6.9141387939453125e-06\n",
      "Probability Blocked: 1.6033649444580078e-05\n",
      "Probability Blocked: 7.092952728271484e-06\n",
      "Probability Blocked: 1.6689300537109375e-05\n",
      "Probability Blocked: 1.5616416931152344e-05\n",
      "Probability Blocked: 1.0311603546142578e-05\n",
      "Probability Blocked: 3.5762786865234375e-06\n",
      "Probability Blocked: 2.86102294921875e-06\n",
      "Probability Blocked: 5.662441253662109e-06\n",
      "Probability Blocked: 8.761882781982422e-06\n",
      "Probability Blocked: 2.2232532501220703e-05\n",
      "Probability Blocked: 2.1278858184814453e-05\n",
      "Probability Blocked: 5.7637691497802734e-05\n",
      "Probability Blocked: 7.599592208862305e-05\n",
      "Probability Blocked: 0.0002846717834472656\n",
      "Probability Blocked: 0.00016868114471435547\n",
      "Probability Blocked: 9.953975677490234e-05\n",
      "Probability Blocked: 3.5762786865234375e-05\n",
      "Probability Blocked: 1.2516975402832031e-05\n",
      "Probability Blocked: 1.9848346710205078e-05\n",
      "Probability Blocked: 4.506111145019531e-05\n",
      "Probability Blocked: 0.0001404285430908203\n",
      "Probability Blocked: 0.00017130374908447266\n",
      "Probability Blocked: 1.6808509826660156e-05\n",
      "Probability Blocked: 1.9609928131103516e-05\n",
      "Probability Blocked: 2.384185791015625e-06\n",
      "Probability Blocked: 3.11732292175293e-05\n",
      "Probability Blocked: 1.424551010131836e-05\n",
      "Probability Blocked: 2.4378299713134766e-05\n",
      "Probability Blocked: 0.0003528594970703125\n",
      "Probability Blocked: 0.0007991790771484375\n",
      "Probability Blocked: 0.0009398460388183594\n",
      "Probability Blocked: 0.005321502685546875\n",
      "Probability Blocked: 0.0017175674438476562\n",
      "Probability Blocked: 0.0168609619140625\n",
      "Probability Blocked: 0.0511474609375\n",
      "Probability Blocked: 0.19482421875\n",
      "Probability Blocked: 0.09619140625\n",
      "Probability Blocked: 0.1517333984375\n",
      "Probability Blocked: 0.28857421875\n",
      "Probability Blocked: 0.1201171875\n",
      "Probability Blocked: 0.0865478515625\n",
      "Probability Blocked: 0.110595703125\n",
      "Probability Blocked: 0.0165557861328125\n",
      "Probability Blocked: 0.004764556884765625\n",
      "Probability Blocked: 0.0134429931640625\n",
      "Probability Blocked: 0.0009365081787109375\n",
      "Probability Blocked: 0.0017786026000976562\n",
      "Probability Blocked: 0.02215576171875\n",
      "Probability Blocked: 0.05596923828125\n",
      "Probability Blocked: 0.047119140625\n",
      "Probability Blocked: 0.036041259765625\n",
      "Probability Blocked: 0.125244140625\n",
      "Probability Blocked: 0.11285400390625\n",
      "Probability Blocked: 0.1912841796875\n",
      "Probability Blocked: 0.06658935546875\n",
      "Probability Blocked: 0.0221099853515625\n",
      "Probability Blocked: 0.017364501953125\n",
      "Probability Blocked: 0.014556884765625\n",
      "Probability Blocked: 0.08270263671875\n",
      "Probability Blocked: 0.01511383056640625\n",
      "Probability Blocked: 0.09112548828125\n",
      "Probability Blocked: 0.1640625\n",
      "Probability Blocked: 0.0162200927734375\n",
      "Probability Blocked: 0.00881195068359375\n",
      "Probability Blocked: 0.02447509765625\n",
      "Probability Blocked: 0.02294921875\n",
      "Probability Blocked: 0.01287078857421875\n",
      "Probability Blocked: 0.00939178466796875\n",
      "Probability Blocked: 0.0162200927734375\n",
      "Probability Blocked: 0.015350341796875\n",
      "Probability Blocked: 0.001979827880859375\n",
      "Probability Blocked: 0.004238128662109375\n",
      "Probability Blocked: 0.004573822021484375\n",
      "Probability Blocked: 0.001438140869140625\n",
      "Probability Blocked: 0.0032100677490234375\n",
      "Probability Blocked: 0.004329681396484375\n",
      "Probability Blocked: 0.005535125732421875\n",
      "Probability Blocked: 0.004573822021484375\n"
     ]
    }
   ],
   "source": [
    "camera.observe(execute, names='value')"
   ]
  },
  {
   "cell_type": "markdown",
   "id": "textile-auction",
   "metadata": {},
   "source": [
    "# Run Cell Below to Stop"
   ]
  },
  {
   "cell_type": "code",
   "execution_count": 11,
   "id": "other-compatibility",
   "metadata": {},
   "outputs": [
    {
     "name": "stdout",
     "output_type": "stream",
     "text": [
      "Probability Blocked: 4.887580871582031e-06\n",
      "Probability Blocked: 3.933906555175781e-06\n",
      "Probability Blocked: 1.5020370483398438e-05\n"
     ]
    }
   ],
   "source": [
    "import time\n",
    "\n",
    "camera.unobserve(execute, names='value')\n",
    "time.sleep(0.1)  # add a small sleep to make sure frames have finished processing\n",
    "robot.stop()"
   ]
  },
  {
   "cell_type": "code",
   "execution_count": null,
   "id": "stuffed-title",
   "metadata": {},
   "outputs": [],
   "source": [
    "robot.stop()"
   ]
  },
  {
   "cell_type": "code",
   "execution_count": null,
   "id": "intense-width",
   "metadata": {},
   "outputs": [],
   "source": []
  }
 ],
 "metadata": {
  "kernelspec": {
   "display_name": "Python 3",
   "language": "python",
   "name": "python3"
  },
  "language_info": {
   "codemirror_mode": {
    "name": "ipython",
    "version": 3
   },
   "file_extension": ".py",
   "mimetype": "text/x-python",
   "name": "python",
   "nbconvert_exporter": "python",
   "pygments_lexer": "ipython3",
   "version": "3.6.9"
  }
 },
 "nbformat": 4,
 "nbformat_minor": 5
}
