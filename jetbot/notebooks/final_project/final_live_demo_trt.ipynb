{
 "cells": [
  {
   "cell_type": "markdown",
   "id": "agreed-oxygen",
   "metadata": {},
   "source": [
    "To begin, we need to transfer the device from CPU memory to the GPU."
   ]
  },
  {
   "cell_type": "code",
   "execution_count": 1,
   "id": "aquatic-colombia",
   "metadata": {},
   "outputs": [],
   "source": [
    "import torch\n",
    "device = torch.device('cuda')"
   ]
  },
  {
   "cell_type": "markdown",
   "id": "editorial-poker",
   "metadata": {},
   "source": [
    "Load the TRT optimized models."
   ]
  },
  {
   "cell_type": "code",
   "execution_count": 2,
   "id": "respective-variance",
   "metadata": {},
   "outputs": [
    {
     "data": {
      "text/plain": [
       "<All keys matched successfully>"
      ]
     },
     "execution_count": 2,
     "metadata": {},
     "output_type": "execute_result"
    }
   ],
   "source": [
    "from torch2trt import TRTModule\n",
    "\n",
    "model_trt = TRTModule()\n",
    "model_trt.load_state_dict(torch.load('best_steering_model_xy_trt.pth'))\n",
    "\n",
    "model_trt_collision = TRTModule()\n",
    "model_trt_collision.load_state_dict(torch.load('new_best_model_trt.pth'))"
   ]
  },
  {
   "cell_type": "markdown",
   "id": "solid-sweet",
   "metadata": {},
   "source": [
    "# Create Preprocessing Function\n",
    "It's the same for both models."
   ]
  },
  {
   "cell_type": "code",
   "execution_count": 3,
   "id": "molecular-honolulu",
   "metadata": {},
   "outputs": [],
   "source": [
    "import torchvision.transforms as transforms\n",
    "import torch.nn.functional as F\n",
    "import cv2\n",
    "import PIL.Image\n",
    "import numpy as np\n",
    "\n",
    "#normalize = torchvision.transforms.Normalize(mean, std)\n",
    "mean = torch.Tensor([0.485, 0.456, 0.406]).cuda().half()\n",
    "std = torch.Tensor([0.229, 0.224, 0.225]).cuda().half()\n",
    "\n",
    "def preprocess(image):\n",
    "    image = PIL.Image.fromarray(image)\n",
    "    image = transforms.functional.to_tensor(image).to(device).half()\n",
    "    image.sub_(mean[:, None, None]).div_(std[:, None, None])\n",
    "    return image[None, ...]"
   ]
  },
  {
   "cell_type": "markdown",
   "id": "incorrect-presentation",
   "metadata": {},
   "source": [
    "# Start & Display the Camera"
   ]
  },
  {
   "cell_type": "code",
   "execution_count": 4,
   "id": "specific-folder",
   "metadata": {},
   "outputs": [
    {
     "data": {
      "text/plain": [
       "<traitlets.traitlets.directional_link at 0x7ee5232320>"
      ]
     },
     "execution_count": 4,
     "metadata": {},
     "output_type": "execute_result"
    }
   ],
   "source": [
    "from IPython.display import display\n",
    "import ipywidgets\n",
    "import traitlets\n",
    "from jetbot import bgr8_to_jpeg\n",
    "from jetbot.camera.zmq_camera import ZmqCamera as Camera\n",
    "\n",
    "camera = Camera()\n",
    "image_widget = ipywidgets.Image()\n",
    "traitlets.dlink((camera, 'value'), (image_widget, 'value'), transform=bgr8_to_jpeg)"
   ]
  },
  {
   "cell_type": "markdown",
   "id": "irish-education",
   "metadata": {},
   "source": [
    "# Create Robot Instance\n",
    "This is used to drive the motors."
   ]
  },
  {
   "cell_type": "code",
   "execution_count": 5,
   "id": "satisfactory-shanghai",
   "metadata": {},
   "outputs": [],
   "source": [
    "from jetbot import Robot\n",
    "\n",
    "robot = Robot()"
   ]
  },
  {
   "cell_type": "markdown",
   "id": "pressed-burns",
   "metadata": {},
   "source": [
    "# Define Sliders to Control JetBot"
   ]
  },
  {
   "cell_type": "markdown",
   "id": "integrated-content",
   "metadata": {},
   "source": [
    "Now, we will define sliders to control JetBot\n",
    "> Note: We have initialize the slider values for best known configurations, however these might not work for your dataset, therefore please increase or decrease the sliders according to your setup and environment\n",
    "\n",
    "1. Speed Control (speed_gain_slider): To start your JetBot increase ``speed_gain_slider`` \n",
    "2. Steering Gain Control (steering_gain_slider): If you see JetBot is wobbling, you need to reduce ``steering_gain_slider`` till it is smooth\n",
    "3. Steering Bias control (steering_bias_slider): If you see JetBot is biased towards extreme right or extreme left side of the track, you should control this slider till JetBot start following line or track in the center.  This accounts for motor biases as well as camera offsets\n",
    "\n",
    "> Note: You should play around above mentioned sliders with lower speed to get smooth JetBot road following behavior."
   ]
  },
  {
   "cell_type": "markdown",
   "id": "rolled-headline",
   "metadata": {},
   "source": [
    "## Road Following Sliders"
   ]
  },
  {
   "cell_type": "code",
   "execution_count": 6,
   "id": "brutal-operator",
   "metadata": {},
   "outputs": [
    {
     "data": {
      "application/vnd.jupyter.widget-view+json": {
       "model_id": "b436a1d846374e1282b2c5faa866ca07",
       "version_major": 2,
       "version_minor": 0
      },
      "text/plain": [
       "FloatSlider(value=0.2, description='speed gain', max=1.0, step=0.01)"
      ]
     },
     "metadata": {},
     "output_type": "display_data"
    },
    {
     "data": {
      "application/vnd.jupyter.widget-view+json": {
       "model_id": "8c0a928e6a9442aea728737f23bb4720",
       "version_major": 2,
       "version_minor": 0
      },
      "text/plain": [
       "FloatSlider(value=0.05, description='steering gain', max=1.0, step=0.01)"
      ]
     },
     "metadata": {},
     "output_type": "display_data"
    },
    {
     "data": {
      "application/vnd.jupyter.widget-view+json": {
       "model_id": "f2f0a21156664b69b4589c9db90bb7bb",
       "version_major": 2,
       "version_minor": 0
      },
      "text/plain": [
       "FloatSlider(value=0.0, description='steering kd', max=0.5, step=0.001)"
      ]
     },
     "metadata": {},
     "output_type": "display_data"
    },
    {
     "data": {
      "application/vnd.jupyter.widget-view+json": {
       "model_id": "4bb86f4b1cc94e90bc3d22fbfa1994d1",
       "version_major": 2,
       "version_minor": 0
      },
      "text/plain": [
       "FloatSlider(value=-0.02, description='steering bias', max=0.3, min=-0.3, step=0.01)"
      ]
     },
     "metadata": {},
     "output_type": "display_data"
    }
   ],
   "source": [
    "speed_gain_slider = ipywidgets.FloatSlider(min=0.0, max=1.0, step=0.01, value=0.2, description='speed gain')\n",
    "steering_gain_slider = ipywidgets.FloatSlider(min=0.0, max=1.0, step=0.01, value=0.05, description='steering gain')\n",
    "steering_dgain_slider = ipywidgets.FloatSlider(min=0.0, max=0.5, step=0.001, value=0.0, description='steering kd')\n",
    "steering_bias_slider = ipywidgets.FloatSlider(min=-0.3, max=0.3, step=0.01, value=-0.02, description='steering bias')\n",
    "\n",
    "display(speed_gain_slider, steering_gain_slider, steering_dgain_slider, steering_bias_slider)"
   ]
  },
  {
   "cell_type": "markdown",
   "id": "stuffed-cathedral",
   "metadata": {},
   "source": [
    "## Collision Avoidance Sliders"
   ]
  },
  {
   "cell_type": "code",
   "execution_count": 8,
   "id": "outdoor-recorder",
   "metadata": {},
   "outputs": [
    {
     "data": {
      "application/vnd.jupyter.widget-view+json": {
       "model_id": "681314f3b89c4199adb3319994da9a69",
       "version_major": 2,
       "version_minor": 0
      },
      "text/plain": [
       "Image(value=b'\\xff\\xd8\\xff\\xe0\\x00\\x10JFIF\\x00\\x01\\x01\\x00\\x00\\x01\\x00\\x01\\x00\\x00\\xff\\xdb\\x00C\\x00\\x02\\x01\\x0…"
      ]
     },
     "metadata": {},
     "output_type": "display_data"
    },
    {
     "data": {
      "application/vnd.jupyter.widget-view+json": {
       "model_id": "e2250f313b0541fc94844d3466bed862",
       "version_major": 2,
       "version_minor": 0
      },
      "text/plain": [
       "HBox(children=(FloatSlider(value=0.0, description='blocked', max=1.0, orientation='vertical'), FloatSlider(val…"
      ]
     },
     "metadata": {},
     "output_type": "display_data"
    }
   ],
   "source": [
    "blocked_slider = ipywidgets.widgets.FloatSlider(description='blocked', min=0.0, max=1.0, orientation='vertical')\n",
    "stopduration_slider= ipywidgets.IntSlider(min=1, max=1000, step=1, value=10, description='time for stop') \n",
    "blocked_threshold= ipywidgets.FloatSlider(min=0, max=1.0, step=0.01, value=0.5, description='blocked threshold')\n",
    "\n",
    "display(image_widget)\n",
    "display(ipywidgets.HBox([blocked_slider, blocked_threshold, stopduration_slider]))"
   ]
  },
  {
   "cell_type": "markdown",
   "id": "surprised-promotion",
   "metadata": {},
   "source": [
    "# Setup Publisher to Send Messages to Fog"
   ]
  },
  {
   "cell_type": "code",
   "execution_count": 9,
   "id": "coordinate-tractor",
   "metadata": {},
   "outputs": [],
   "source": [
    "import zmq\n",
    "\n",
    "# Setup the publisher and socket\n",
    "pub_context = zmq.Context()\n",
    "pub_socket = pub_context.socket(zmq.PUB)\n",
    "pub_socket.bind('tcp://*:2000')\n",
    "pub_topic = 10001"
   ]
  },
  {
   "cell_type": "markdown",
   "id": "promotional-reporter",
   "metadata": {},
   "source": [
    "# Setup Subscriber to Receive Messages from Fog/Cloud"
   ]
  },
  {
   "cell_type": "code",
   "execution_count": 10,
   "id": "charged-lounge",
   "metadata": {},
   "outputs": [],
   "source": [
    "# Setup the subscriber and socket\n",
    "sub_context = zmq.Context()\n",
    "sub_socket = sub_context.socket(zmq.SUB)\n",
    "sub_socket.connect('tcp://192.168.254.161:2001')\n",
    "sub_socket.setsockopt_string(zmq.SUBSCRIBE, '11000')"
   ]
  },
  {
   "cell_type": "code",
   "execution_count": 11,
   "id": "played-bridge",
   "metadata": {},
   "outputs": [],
   "source": [
    "# Setup the subscriber and socket\n",
    "cloud_sub_context = zmq.Context()\n",
    "cloud_sub_socket = cloud_sub_context.socket(zmq.SUB)\n",
    "cloud_sub_socket.connect('tcp://192.168.254.161:2002')\n",
    "cloud_sub_socket.setsockopt_string(zmq.SUBSCRIBE, '11011')"
   ]
  },
  {
   "cell_type": "markdown",
   "id": "colonial-ivory",
   "metadata": {},
   "source": [
    "# Function to Run When Camera's Value Changes"
   ]
  },
  {
   "cell_type": "code",
   "execution_count": 19,
   "id": "upper-transportation",
   "metadata": {},
   "outputs": [],
   "source": [
    "import math\n",
    "import time\n",
    "\n",
    "angle = 0.0\n",
    "angle_last = 0.0\n",
    "count_stops = 0.0\n",
    "go_on = 0.0\n",
    "\n",
    "# The number of frames to remain stopped\n",
    "stop_time = 10\n",
    "x = 0.0\n",
    "y = 0.0\n",
    "speed_value = speed_gain_slider.value\n",
    "\n",
    "# Set flag for `Blocked` message delivery to fog\n",
    "sent_msg = False\n",
    "\n",
    "\n",
    "def execute(change):\n",
    "    global angle, angle_last, blocked_slider, robot, count_stops, stop_time, go_on, x, y, blocked_threshold\n",
    "    global speed_value, steer_gain, steer_dgain, steer_bias\n",
    "    global sent_msg\n",
    "    \n",
    "    #print('running function')\n",
    "    \n",
    "    steer_gain = steering_gain_slider.value\n",
    "    steer_dgain = steering_dgain_slider.value\n",
    "    steer_bias = steering_bias_slider.value\n",
    "    go_on = 1\n",
    "    \n",
    "    # Preprocess the image\n",
    "    image_preproc = preprocess(change['new']).to(device)\n",
    "    \n",
    "    # Collision Avoidance Model\n",
    "    prob_blocked = float(F.softmax(model_trt_collision(image_preproc), dim=1).flatten()[0])\n",
    "    blocked_slider.value = prob_blocked\n",
    "    stop_time = stopduration_slider.value\n",
    "    if go_on == 1:\n",
    "        \n",
    "        # Probability threshold should be above 0.5\n",
    "        if prob_blocked > blocked_threshold.value:\n",
    "            \n",
    "            # Stop the car\n",
    "            speed_gain_slider.value = 0.0\n",
    "            speed_value = speed_gain_slider.value\n",
    "            robot.left_motor.value = 0.0\n",
    "            robot.right_motor.value = 0.0\n",
    "            \n",
    "            # Get light status from fog\n",
    "            light_msg = ''\n",
    "            try:\n",
    "                light_msg = sub_socket.recv()\n",
    "                print(f'Light Status: {light_msg}')\n",
    "            except:\n",
    "                pass\n",
    "            \n",
    "            # Send message only once\n",
    "            if not sent_msg:\n",
    "                pub_socket.send_string('%d %s' % (pub_topic, 'Object Encountered!'))\n",
    "                print('Sent message to fog')\n",
    "                sent_msg = True\n",
    "                \n",
    "                # Get new route from Cloud\n",
    "                try:\n",
    "                    speed_gain_slider.value = 0.0\n",
    "                    speed_value = speed_gain_slider.value\n",
    "                    print('trying to get new route')\n",
    "                    route = cloud_sub_socket.recv()\n",
    "                    print(route)\n",
    "                except Exception as e:\n",
    "                    print(f'Received error: {e}')\n",
    "                \n",
    "            count_stops += 1\n",
    "            go_on = 2\n",
    "            print('Finishing object avoidance loop...')\n",
    "        else:\n",
    "            # Start of Road Following Model\n",
    "            sent_msg = False\n",
    "            go_on = 1\n",
    "            count_stops = 0\n",
    "            xy = model_trt(image_preproc).detach().float().cpu().numpy().flatten()\n",
    "            x = xy[0]\n",
    "            y = (0.5 - xy[1]) / 2.0\n",
    "            speed_gain_slider.value = 0.2\n",
    "            speed_value = speed_gain_slider.value\n",
    "    else:\n",
    "        count_stops += 1\n",
    "        if count_stops < stop_time:\n",
    "            # Set x, y steering and speed to 0.0\n",
    "            x = 0.0\n",
    "            y = 0.0\n",
    "            speed_value = 0\n",
    "        else:\n",
    "            go_on = 1\n",
    "            count_stops = 0\n",
    "            \n",
    "    angle = math.atan2(x, y)\n",
    "    pid = angle * steer_gain + (angle - angle_last) * steer_dgain\n",
    "    steer_val = pid + steer_bias\n",
    "    angle_last = angle\n",
    "    robot.left_motor.value = max(min(speed_value + steer_val, 1.0), 0.0)\n",
    "    robot.right_motor.value = max(min(speed_value - steer_val, 1.0), 0.0)\n",
    "    \n",
    "execute({'new': camera.value})   \n",
    "    "
   ]
  },
  {
   "cell_type": "markdown",
   "id": "technical-utility",
   "metadata": {},
   "source": [
    "# Attach the Function to Camera for Processing"
   ]
  },
  {
   "cell_type": "code",
   "execution_count": 20,
   "id": "resistant-nevada",
   "metadata": {},
   "outputs": [
    {
     "name": "stdout",
     "output_type": "stream",
     "text": [
      "Light Status: b'11000 b\"10011 b\\'Red Light\\\\\\\\r\\\\\\\\n\\'\"'\n",
      "Sent message to fog\n",
      "trying to get new route\n",
      "b'11011 {\"data\": {\"message\": \"Heres Your New Route!\"}}'\n",
      "Finishing object avoidance loop...\n",
      "Light Status: b'11000 b\"10011 b\\'Red Light\\\\\\\\r\\\\\\\\n\\'\"'\n",
      "Finishing object avoidance loop...\n",
      "Light Status: b'11000 b\"10011 b\\'Red Light\\\\\\\\r\\\\\\\\n\\'\"'\n",
      "Finishing object avoidance loop...\n",
      "Light Status: b'11000 b\"10011 b\\'Red Light\\\\\\\\r\\\\\\\\n\\'\"'\n",
      "Finishing object avoidance loop...\n",
      "Light Status: b'11000 b\"10011 b\\'Red Light\\\\\\\\r\\\\\\\\n\\'\"'\n",
      "Sent message to fog\n",
      "trying to get new route\n",
      "b'11011 {\"data\": {\"message\": \"Heres Your New Route!\"}}'\n",
      "Finishing object avoidance loop...\n",
      "Light Status: b'11000 b\"10011 b\\'Red Light\\\\\\\\r\\\\\\\\n\\'\"'\n",
      "Finishing object avoidance loop...\n",
      "Light Status: b'11000 b\"10011 b\\'Red Light\\\\\\\\r\\\\\\\\n\\'\"'\n",
      "Finishing object avoidance loop...\n",
      "Light Status: b'11000 b\"10011 b\\'Red Light\\\\\\\\r\\\\\\\\n\\'\"'\n",
      "Finishing object avoidance loop...\n",
      "Light Status: b'11000 b\"10011 b\\'Red Light\\\\\\\\r\\\\\\\\n\\'\"'\n",
      "Finishing object avoidance loop...\n",
      "Light Status: b'11000 b\"10011 b\\'Green Light\\\\\\\\r\\\\\\\\n\\'\"'\n",
      "Finishing object avoidance loop...\n",
      "Light Status: b'11000 b\"10011 b\\'Green Light\\\\\\\\r\\\\\\\\n\\'\"'\n",
      "Finishing object avoidance loop...\n",
      "Light Status: b'11000 b\"10011 b\\'Green Light\\\\\\\\r\\\\\\\\n\\'\"'\n",
      "Finishing object avoidance loop...\n",
      "Light Status: b'11000 b\"10011 b\\'Green Light\\\\\\\\r\\\\\\\\n\\'\"'\n",
      "Finishing object avoidance loop...\n",
      "Light Status: b'11000 b\"10011 b\\'Green Light\\\\\\\\r\\\\\\\\n\\'\"'\n",
      "Finishing object avoidance loop...\n",
      "Light Status: b'11000 b\"10011 b\\'Green Light\\\\\\\\r\\\\\\\\n\\'\"'\n",
      "Finishing object avoidance loop...\n",
      "Light Status: b'11000 b\"10011 b\\'Green Light\\\\\\\\r\\\\\\\\n\\'\"'\n",
      "Finishing object avoidance loop...\n",
      "Light Status: b'11000 b\"10011 b\\'Green Light\\\\\\\\r\\\\\\\\n\\'\"'\n",
      "Finishing object avoidance loop...\n",
      "Light Status: b'11000 b\"10011 b\\'Green Light\\\\\\\\r\\\\\\\\n\\'\"'\n",
      "Finishing object avoidance loop...\n",
      "Light Status: b'11000 b\"10011 b\\'Yellow Light\\\\\\\\r\\\\\\\\n\\'\"'\n",
      "Finishing object avoidance loop...\n",
      "Light Status: b'11000 b\"10011 b\\'Yellow Light\\\\\\\\r\\\\\\\\n\\'\"'\n",
      "Finishing object avoidance loop...\n",
      "Light Status: b'11000 b\"10011 b\\'Yellow Light\\\\\\\\r\\\\\\\\n\\'\"'\n",
      "Finishing object avoidance loop...\n",
      "Light Status: b'11000 b\"10011 b\\'Yellow Light\\\\\\\\r\\\\\\\\n\\'\"'\n",
      "Finishing object avoidance loop...\n",
      "Light Status: b'11000 b\"10011 b\\'Yellow Light\\\\\\\\r\\\\\\\\n\\'\"'\n",
      "Finishing object avoidance loop...\n",
      "Light Status: b'11000 b\"10011 b\\'Red Light\\\\\\\\r\\\\\\\\n\\'\"'\n",
      "Finishing object avoidance loop...\n",
      "Light Status: b'11000 b\"10011 b\\'Red Light\\\\\\\\r\\\\\\\\n\\'\"'\n",
      "Finishing object avoidance loop...\n",
      "Light Status: b'11000 b\"10011 b\\'Red Light\\\\\\\\r\\\\\\\\n\\'\"'\n",
      "Finishing object avoidance loop...\n",
      "Light Status: b'11000 b\"10011 b\\'Red Light\\\\\\\\r\\\\\\\\n\\'\"'\n",
      "Finishing object avoidance loop...\n",
      "Light Status: b'11000 b\"10011 b\\'Red Light\\\\\\\\r\\\\\\\\n\\'\"'\n",
      "Finishing object avoidance loop...\n",
      "Light Status: b'11000 b\"10011 b\\'Red Light\\\\\\\\r\\\\\\\\n\\'\"'\n",
      "Finishing object avoidance loop...\n",
      "Light Status: b'11000 b\"10011 b\\'Red Light\\\\\\\\r\\\\\\\\n\\'\"'\n",
      "Finishing object avoidance loop...\n",
      "Light Status: b'11000 b\"10011 b\\'Red Light\\\\\\\\r\\\\\\\\n\\'\"'\n",
      "Finishing object avoidance loop...\n",
      "Light Status: b'11000 b\"10011 b\\'Red Light\\\\\\\\r\\\\\\\\n\\'\"'\n",
      "Finishing object avoidance loop...\n",
      "Light Status: b'11000 b\"10011 b\\'Red Light\\\\\\\\r\\\\\\\\n\\'\"'\n",
      "Finishing object avoidance loop...\n",
      "Light Status: b'11000 b\"10011 b\\'Red Light\\\\\\\\r\\\\\\\\n\\'\"'\n",
      "Finishing object avoidance loop...\n",
      "Light Status: b'11000 b\"10011 b\\'Red Light\\\\\\\\r\\\\\\\\n\\'\"'\n",
      "Finishing object avoidance loop...\n",
      "Light Status: b'11000 b\"10011 b\\'Red Light\\\\\\\\r\\\\\\\\n\\'\"'\n",
      "Finishing object avoidance loop...\n",
      "Light Status: b'11000 b\"10011 b\\'Red Light\\\\\\\\r\\\\\\\\n\\'\"'\n",
      "Finishing object avoidance loop...\n",
      "Light Status: b'11000 b\"10011 b\\'Red Light\\\\\\\\r\\\\\\\\n\\'\"'\n",
      "Finishing object avoidance loop...\n",
      "Light Status: b'11000 b\"10011 b\\'Red Light\\\\\\\\r\\\\\\\\n\\'\"'\n",
      "Finishing object avoidance loop...\n",
      "Light Status: b'11000 b\"10011 b\\'Red Light\\\\\\\\r\\\\\\\\n\\'\"'\n",
      "Finishing object avoidance loop...\n",
      "Light Status: b'11000 b\"10011 b\\'Red Light\\\\\\\\r\\\\\\\\n\\'\"'\n",
      "Finishing object avoidance loop...\n",
      "Light Status: b'11000 b\"10011 b\\'Green Light\\\\\\\\r\\\\\\\\n\\'\"'\n",
      "Finishing object avoidance loop...\n",
      "Light Status: b'11000 b\"10011 b\\'Green Light\\\\\\\\r\\\\\\\\n\\'\"'\n",
      "Finishing object avoidance loop...\n",
      "Light Status: b'11000 b\"10011 b\\'Green Light\\\\\\\\r\\\\\\\\n\\'\"'\n",
      "Finishing object avoidance loop...\n",
      "Light Status: b'11000 b\"10011 b\\'Green Light\\\\\\\\r\\\\\\\\n\\'\"'\n",
      "Finishing object avoidance loop...\n",
      "Light Status: b'11000 b\"10011 b\\'Green Light\\\\\\\\r\\\\\\\\n\\'\"'\n",
      "Finishing object avoidance loop...\n",
      "Light Status: b'11000 b\"10011 b\\'Green Light\\\\\\\\r\\\\\\\\n\\'\"'\n",
      "Finishing object avoidance loop...\n",
      "Light Status: b'11000 b\"10011 b\\'Green Light\\\\\\\\r\\\\\\\\n\\'\"'\n",
      "Finishing object avoidance loop...\n",
      "Light Status: b'11000 b\"10011 b\\'Green Light\\\\\\\\r\\\\\\\\n\\'\"'\n",
      "Finishing object avoidance loop...\n",
      "Light Status: b'11000 b\"10011 b\\'Green Light\\\\\\\\r\\\\\\\\n\\'\"'\n",
      "Finishing object avoidance loop...\n",
      "Light Status: b'11000 b\"10011 b\\'Yellow Light\\\\\\\\r\\\\\\\\n\\'\"'\n",
      "Finishing object avoidance loop...\n",
      "Light Status: b'11000 b\"10011 b\\'Yellow Light\\\\\\\\r\\\\\\\\n\\'\"'\n",
      "Finishing object avoidance loop...\n",
      "Light Status: b'11000 b\"10011 b\\'Yellow Light\\\\\\\\r\\\\\\\\n\\'\"'\n",
      "Finishing object avoidance loop...\n",
      "Light Status: b'11000 b\"10011 b\\'Yellow Light\\\\\\\\r\\\\\\\\n\\'\"'\n",
      "Finishing object avoidance loop...\n",
      "Light Status: b'11000 b\"10011 b\\'Yellow Light\\\\\\\\r\\\\\\\\n\\'\"'\n",
      "Finishing object avoidance loop...\n",
      "Light Status: b'11000 b\"10011 b\\'Red Light\\\\\\\\r\\\\\\\\n\\'\"'\n",
      "Finishing object avoidance loop...\n",
      "Light Status: b'11000 b\"10011 b\\'Red Light\\\\\\\\r\\\\\\\\n\\'\"'\n",
      "Finishing object avoidance loop...\n",
      "Light Status: b'11000 b\"10011 b\\'Red Light\\\\\\\\r\\\\\\\\n\\'\"'\n",
      "Finishing object avoidance loop...\n",
      "Light Status: b'11000 b\"10011 b\\'Red Light\\\\\\\\r\\\\\\\\n\\'\"'\n",
      "Finishing object avoidance loop...\n",
      "Light Status: b'11000 b\"10011 b\\'Red Light\\\\\\\\r\\\\\\\\n\\'\"'\n",
      "Finishing object avoidance loop...\n",
      "Light Status: b'11000 b\"10011 b\\'Red Light\\\\\\\\r\\\\\\\\n\\'\"'\n",
      "Finishing object avoidance loop...\n",
      "Light Status: b'11000 b\"10011 b\\'Red Light\\\\\\\\r\\\\\\\\n\\'\"'\n",
      "Finishing object avoidance loop...\n",
      "Light Status: b'11000 b\"10011 b\\'Red Light\\\\\\\\r\\\\\\\\n\\'\"'\n",
      "Finishing object avoidance loop...\n",
      "Light Status: b'11000 b\"10011 b\\'Red Light\\\\\\\\r\\\\\\\\n\\'\"'\n",
      "Finishing object avoidance loop...\n",
      "Light Status: b'11000 b\"10011 b\\'Red Light\\\\\\\\r\\\\\\\\n\\'\"'\n",
      "Finishing object avoidance loop...\n",
      "Light Status: b'11000 b\"10011 b\\'Red Light\\\\\\\\r\\\\\\\\n\\'\"'\n",
      "Finishing object avoidance loop...\n",
      "Light Status: b'11000 b\"10011 b\\'Red Light\\\\\\\\r\\\\\\\\n\\'\"'\n",
      "Finishing object avoidance loop...\n",
      "Light Status: b'11000 b\"10011 b\\'Red Light\\\\\\\\r\\\\\\\\n\\'\"'\n",
      "Finishing object avoidance loop...\n",
      "Light Status: b'11000 b\"10011 b\\'Red Light\\\\\\\\r\\\\\\\\n\\'\"'\n",
      "Finishing object avoidance loop...\n",
      "Light Status: b'11000 b\"10011 b\\'Red Light\\\\\\\\r\\\\\\\\n\\'\"'\n",
      "Finishing object avoidance loop...\n",
      "Light Status: b'11000 b\"10011 b\\'Red Light\\\\\\\\r\\\\\\\\n\\'\"'\n",
      "Finishing object avoidance loop...\n",
      "Light Status: b'11000 b\"10011 b\\'Red Light\\\\\\\\r\\\\\\\\n\\'\"'\n",
      "Finishing object avoidance loop...\n",
      "Light Status: b'11000 b\"10011 b\\'Red Light\\\\\\\\r\\\\\\\\n\\'\"'\n",
      "Finishing object avoidance loop...\n",
      "Light Status: b'11000 b\"10011 b\\'Green Light\\\\\\\\r\\\\\\\\n\\'\"'\n",
      "Finishing object avoidance loop...\n",
      "Light Status: b'11000 b\"10011 b\\'Green Light\\\\\\\\r\\\\\\\\n\\'\"'\n",
      "Finishing object avoidance loop...\n",
      "Light Status: b'11000 b\"10011 b\\'Green Light\\\\\\\\r\\\\\\\\n\\'\"'\n",
      "Finishing object avoidance loop...\n",
      "Light Status: b'11000 b\"10011 b\\'Green Light\\\\\\\\r\\\\\\\\n\\'\"'\n",
      "Finishing object avoidance loop...\n",
      "Light Status: b'11000 b\"10011 b\\'Green Light\\\\\\\\r\\\\\\\\n\\'\"'\n",
      "Finishing object avoidance loop...\n",
      "Light Status: b'11000 b\"10011 b\\'Green Light\\\\\\\\r\\\\\\\\n\\'\"'\n",
      "Finishing object avoidance loop...\n",
      "Light Status: b'11000 b\"10011 b\\'Green Light\\\\\\\\r\\\\\\\\n\\'\"'\n",
      "Finishing object avoidance loop...\n",
      "Light Status: b'11000 b\"10011 b\\'Green Light\\\\\\\\r\\\\\\\\n\\'\"'\n",
      "Finishing object avoidance loop...\n",
      "Light Status: b'11000 b\"10011 b\\'Green Light\\\\\\\\r\\\\\\\\n\\'\"'\n",
      "Finishing object avoidance loop...\n",
      "Light Status: b'11000 b\"10011 b\\'Yellow Light\\\\\\\\r\\\\\\\\n\\'\"'\n",
      "Finishing object avoidance loop...\n",
      "Light Status: b'11000 b\"10011 b\\'Yellow Light\\\\\\\\r\\\\\\\\n\\'\"'\n",
      "Finishing object avoidance loop...\n",
      "Light Status: b'11000 b\"10011 b\\'Yellow Light\\\\\\\\r\\\\\\\\n\\'\"'\n",
      "Finishing object avoidance loop...\n",
      "Light Status: b'11000 b\"10011 b\\'Yellow Light\\\\\\\\r\\\\\\\\n\\'\"'\n",
      "Finishing object avoidance loop...\n",
      "Light Status: b'11000 b\"10011 b\\'Yellow Light\\\\\\\\r\\\\\\\\n\\'\"'\n",
      "Finishing object avoidance loop...\n",
      "Light Status: b'11000 b\"10011 b\\'Red Light\\\\\\\\r\\\\\\\\n\\'\"'\n",
      "Finishing object avoidance loop...\n",
      "Light Status: b'11000 b\"10011 b\\'Red Light\\\\\\\\r\\\\\\\\n\\'\"'\n",
      "Finishing object avoidance loop...\n",
      "Light Status: b'11000 b\"10011 b\\'Red Light\\\\\\\\r\\\\\\\\n\\'\"'\n",
      "Finishing object avoidance loop...\n",
      "Light Status: b'11000 b\"10011 b\\'Red Light\\\\\\\\r\\\\\\\\n\\'\"'\n",
      "Finishing object avoidance loop...\n",
      "Light Status: b'11000 b\"10011 b\\'Red Light\\\\\\\\r\\\\\\\\n\\'\"'\n",
      "Finishing object avoidance loop...\n",
      "Light Status: b'11000 b\"10011 b\\'Red Light\\\\\\\\r\\\\\\\\n\\'\"'\n",
      "Finishing object avoidance loop...\n",
      "Light Status: b'11000 b\"10011 b\\'Red Light\\\\\\\\r\\\\\\\\n\\'\"'\n",
      "Finishing object avoidance loop...\n",
      "Light Status: b'11000 b\"10011 b\\'Red Light\\\\\\\\r\\\\\\\\n\\'\"'\n",
      "Finishing object avoidance loop...\n",
      "Light Status: b'11000 b\"10011 b\\'Red Light\\\\\\\\r\\\\\\\\n\\'\"'\n",
      "Finishing object avoidance loop...\n",
      "Light Status: b'11000 b\"10011 b\\'Red Light\\\\\\\\r\\\\\\\\n\\'\"'\n",
      "Finishing object avoidance loop...\n",
      "Light Status: b'11000 b\"10011 b\\'Red Light\\\\\\\\r\\\\\\\\n\\'\"'\n",
      "Finishing object avoidance loop...\n",
      "Light Status: b'11000 b\"10011 b\\'Red Light\\\\\\\\r\\\\\\\\n\\'\"'\n",
      "Sent message to fog\n",
      "trying to get new route\n",
      "b'11011 {\"data\": {\"message\": \"Heres Your New Route!\"}}'\n",
      "Finishing object avoidance loop...\n",
      "Light Status: b'11000 b\"10011 b\\'Red Light\\\\\\\\r\\\\\\\\n\\'\"'\n",
      "Sent message to fog\n",
      "trying to get new route\n",
      "b'11011 {\"data\": {\"message\": \"Heres Your New Route!\"}}'\n",
      "Finishing object avoidance loop...\n"
     ]
    }
   ],
   "source": [
    "camera.observe(execute, names='value')"
   ]
  },
  {
   "cell_type": "markdown",
   "id": "facial-nashville",
   "metadata": {},
   "source": [
    "# Run Cell Below to Stop"
   ]
  },
  {
   "cell_type": "code",
   "execution_count": 21,
   "id": "interested-gates",
   "metadata": {},
   "outputs": [],
   "source": [
    "import time\n",
    "\n",
    "camera.unobserve(execute, names='value')\n",
    "time.sleep(0.1)  # add a small sleep to make sure frames have finished processing\n",
    "robot.stop()"
   ]
  },
  {
   "cell_type": "code",
   "execution_count": 26,
   "id": "treated-contest",
   "metadata": {},
   "outputs": [],
   "source": [
    "robot.stop()"
   ]
  },
  {
   "cell_type": "code",
   "execution_count": null,
   "id": "polyphonic-challenge",
   "metadata": {},
   "outputs": [],
   "source": []
  },
  {
   "cell_type": "code",
   "execution_count": null,
   "id": "basic-slovakia",
   "metadata": {},
   "outputs": [],
   "source": []
  }
 ],
 "metadata": {
  "kernelspec": {
   "display_name": "Python 3",
   "language": "python",
   "name": "python3"
  },
  "language_info": {
   "codemirror_mode": {
    "name": "ipython",
    "version": 3
   },
   "file_extension": ".py",
   "mimetype": "text/x-python",
   "name": "python",
   "nbconvert_exporter": "python",
   "pygments_lexer": "ipython3",
   "version": "3.6.9"
  }
 },
 "nbformat": 4,
 "nbformat_minor": 5
}
