{
 "cells": [
  {
   "cell_type": "code",
   "execution_count": null,
   "id": "married-davis",
   "metadata": {},
   "outputs": [],
   "source": [
    "import zmq\n",
    "\n",
    "# Setup the publisher and socket\n",
    "pub_context = zmq.Context()\n",
    "pub_socket = pub_context.socket(zmq.PUB)\n",
    "pub_socket.bind('tcp://*:2000')\n",
    "pub_topic = 10001\n",
    "\n",
    "while True:\n",
    "    pub_socket.send_string('%d %s' % (pub_topic, 'Object Encountered!'))"
   ]
  },
  {
   "cell_type": "code",
   "execution_count": null,
   "id": "clean-rotation",
   "metadata": {},
   "outputs": [],
   "source": []
  }
 ],
 "metadata": {
  "kernelspec": {
   "display_name": "Python 3",
   "language": "python",
   "name": "python3"
  },
  "language_info": {
   "codemirror_mode": {
    "name": "ipython",
    "version": 3
   },
   "file_extension": ".py",
   "mimetype": "text/x-python",
   "name": "python",
   "nbconvert_exporter": "python",
   "pygments_lexer": "ipython3",
   "version": "3.6.9"
  }
 },
 "nbformat": 4,
 "nbformat_minor": 5
}
